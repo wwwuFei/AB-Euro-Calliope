{
 "cells": [
  {
   "cell_type": "code",
   "execution_count": 1,
   "metadata": {},
   "outputs": [],
   "source": [
    "# import calliope"
   ]
  },
  {
   "cell_type": "code",
   "execution_count": 8,
   "metadata": {},
   "outputs": [],
   "source": [
    "# import pdb\n",
    "# #pdb.set_trace()\n",
    "\n",
    "\n"
   ]
  },
  {
   "cell_type": "code",
   "execution_count": 10,
   "metadata": {},
   "outputs": [
    {
     "name": "stdout",
     "output_type": "stream",
     "text": [
      "> \u001b[0;32m/opt/anaconda3/envs/eurocalliope_2022_02_08/lib/python3.8/site-packages/calliope/core/attrdict.py\u001b[0m(254)\u001b[0;36mget_key\u001b[0;34m()\u001b[0m\n",
      "\u001b[0;32m    252 \u001b[0;31m                    \u001b[0;32mreturn\u001b[0m \u001b[0mdefault\u001b[0m\u001b[0;34m\u001b[0m\u001b[0;34m\u001b[0m\u001b[0m\n",
      "\u001b[0m\u001b[0;32m    253 \u001b[0;31m            \u001b[0;32melse\u001b[0m\u001b[0;34m:\u001b[0m\u001b[0;34m\u001b[0m\u001b[0;34m\u001b[0m\u001b[0m\n",
      "\u001b[0m\u001b[0;32m--> 254 \u001b[0;31m                \u001b[0mvalue\u001b[0m \u001b[0;34m=\u001b[0m \u001b[0mself\u001b[0m\u001b[0;34m[\u001b[0m\u001b[0mkey\u001b[0m\u001b[0;34m]\u001b[0m\u001b[0;34m.\u001b[0m\u001b[0mget_key\u001b[0m\u001b[0;34m(\u001b[0m\u001b[0mremainder\u001b[0m\u001b[0;34m)\u001b[0m\u001b[0;34m\u001b[0m\u001b[0;34m\u001b[0m\u001b[0m\n",
      "\u001b[0m\u001b[0;32m    255 \u001b[0;31m        \u001b[0;32melse\u001b[0m\u001b[0;34m:\u001b[0m\u001b[0;34m\u001b[0m\u001b[0;34m\u001b[0m\u001b[0m\n",
      "\u001b[0m\u001b[0;32m    256 \u001b[0;31m            \u001b[0;31m# Single, non-nested key of form \"foo\"\u001b[0m\u001b[0;34m\u001b[0m\u001b[0;34m\u001b[0m\u001b[0;34m\u001b[0m\u001b[0m\n",
      "\u001b[0m\n"
     ]
    }
   ],
   "source": [
    "# %debug\n",
    "# path_to_model_yaml = '2050/model/national/bio-model-2018.yaml'\n",
    "# ref_2050 = 'res_12h,industry_fuel,transport,heat,config_overrides,link_cap_dynamic,freeze-hydro-capacities,bio_potential_org0,biofuel_supply_only_1' #no_bio_new'#\n",
    "\n",
    "# calliope.Model(path_to_model_yaml, scenario=ref_2050, override_dict={'model.subset_time':['2018-01-01', '2018-01-02']})"
   ]
  },
  {
   "cell_type": "code",
   "execution_count": 2,
   "metadata": {},
   "outputs": [],
   "source": [
    "scenarios_list = ['res_1h,industry_fuel,transport,heat,config_overrides,link_cap_dynamic,freeze-hydro-capacities,bio_potential_org0_msw_equals',\n",
    "'res_2h,industry_fuel,transport,heat,config_overrides,link_cap_dynamic,freeze-hydro-capacities,bio_potential_org0_msw_equals',\n",
    "'res_1h,industry_fuel,transport,heat,config_overrides,link_cap_dynamic,freeze-hydro-capacities,bio_potential_org0_msw_equals,gas_storage',\n",
    "'res_2h,industry_fuel,transport,heat,config_overrides,link_cap_dynamic,freeze-hydro-capacities,bio_potential_org0_msw_equals,gas_storage',\n",
    "'res_1h,industry_fuel,transport,heat,config_overrides,link_cap_dynamic,freeze-hydro-capacities,bio_potential_org0_msw_equals,biofuel_supply_only_1',\n",
    "'res_2h,industry_fuel,transport,heat,config_overrides,link_cap_dynamic,freeze-hydro-capacities,bio_potential_org0_msw_equals,biofuel_supply_only_1',\n",
    "'res_1h,industry_fuel,transport,heat,config_overrides,link_cap_dynamic,freeze-hydro-capacities,bio_potential_org0_msw_equals,biofuel_supply_only_1,gas_storage',\n",
    "'res_2h,industry_fuel,transport,heat,config_overrides,link_cap_dynamic,freeze-hydro-capacities,bio_potential_org0_msw_equals,biofuel_supply_only_1,gas_storage',\n",
    "'res_12h,industry_fuel,transport,heat,config_overrides,link_cap_dynamic,freeze-hydro-capacities,bio_potential_org0_msw_equals,biofuel_supply_only_1,gas_storage'\n",
    "]\n",
    "scenarios_number = len(scenarios_list)"
   ]
  },
  {
   "cell_type": "code",
   "execution_count": 3,
   "metadata": {},
   "outputs": [
    {
     "name": "stdout",
     "output_type": "stream",
     "text": [
      "    1) python run /cluster/work/apatt/feiwu/Ancillary-Bioenergy-Paper/fei_run.py res_1h,industry_fuel,transport,heat,config_overrides,link_cap_dynamic,freeze-hydro-capacities,bio_potential_org0_msw_equals ;;\n",
      "    2) python run /cluster/work/apatt/feiwu/Ancillary-Bioenergy-Paper/fei_run.py res_2h,industry_fuel,transport,heat,config_overrides,link_cap_dynamic,freeze-hydro-capacities,bio_potential_org0_msw_equals ;;\n",
      "    3) python run /cluster/work/apatt/feiwu/Ancillary-Bioenergy-Paper/fei_run.py res_1h,industry_fuel,transport,heat,config_overrides,link_cap_dynamic,freeze-hydro-capacities,bio_potential_org0_msw_equals,gas_storage ;;\n",
      "    4) python run /cluster/work/apatt/feiwu/Ancillary-Bioenergy-Paper/fei_run.py res_2h,industry_fuel,transport,heat,config_overrides,link_cap_dynamic,freeze-hydro-capacities,bio_potential_org0_msw_equals,gas_storage ;;\n",
      "    5) python run /cluster/work/apatt/feiwu/Ancillary-Bioenergy-Paper/fei_run.py res_1h,industry_fuel,transport,heat,config_overrides,link_cap_dynamic,freeze-hydro-capacities,bio_potential_org0_msw_equals,biofuel_supply_only_1 ;;\n",
      "    6) python run /cluster/work/apatt/feiwu/Ancillary-Bioenergy-Paper/fei_run.py res_2h,industry_fuel,transport,heat,config_overrides,link_cap_dynamic,freeze-hydro-capacities,bio_potential_org0_msw_equals,biofuel_supply_only_1 ;;\n",
      "    7) python run /cluster/work/apatt/feiwu/Ancillary-Bioenergy-Paper/fei_run.py res_1h,industry_fuel,transport,heat,config_overrides,link_cap_dynamic,freeze-hydro-capacities,bio_potential_org0_msw_equals,biofuel_supply_only_1,gas_storage ;;\n",
      "    8) python run /cluster/work/apatt/feiwu/Ancillary-Bioenergy-Paper/fei_run.py res_2h,industry_fuel,transport,heat,config_overrides,link_cap_dynamic,freeze-hydro-capacities,bio_potential_org0_msw_equals,biofuel_supply_only_1,gas_storage ;;\n",
      "    9) python run /cluster/work/apatt/feiwu/Ancillary-Bioenergy-Paper/fei_run.py res_12h,industry_fuel,transport,heat,config_overrides,link_cap_dynamic,freeze-hydro-capacities,bio_potential_org0_msw_equals,biofuel_supply_only_1,gas_storage ;;\n"
     ]
    }
   ],
   "source": [
    "i=0\n",
    "for scenarios_string in scenarios_list:\n",
    "    i += 1\n",
    "    print('    '+str(i)+') python run fei_run.py '+scenarios_string+' ;;')\n",
    "#/cluster/work/apatt/feiwu/Ancillary-Bioenergy-Paper/"
   ]
  }
 ],
 "metadata": {
  "kernelspec": {
   "display_name": "Python 3.8.12 64-bit ('eurocalliope_2022_02_08': conda)",
   "name": "python3812jvsc74a57bd060ef0d5ef065665b80fb66d06c59ff5f49553d99fdbd3cc53bfba8dd40fdc500"
  },
  "language_info": {
   "codemirror_mode": {
    "name": "ipython",
    "version": 3
   },
   "file_extension": ".py",
   "mimetype": "text/x-python",
   "name": "python",
   "nbconvert_exporter": "python",
   "pygments_lexer": "ipython3",
   "version": "3.8.12"
  },
  "metadata": {
   "interpreter": {
    "hash": "60ef0d5ef065665b80fb66d06c59ff5f49553d99fdbd3cc53bfba8dd40fdc500"
   }
  },
  "orig_nbformat": 2
 },
 "nbformat": 4,
 "nbformat_minor": 2
}